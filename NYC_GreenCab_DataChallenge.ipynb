{
 "cells": [
  {
   "cell_type": "code",
   "execution_count": 57,
   "metadata": {
    "collapsed": true
   },
   "outputs": [],
   "source": [
    "#importing modules required for our analysis\n",
    "%reload_ext autoreload\n",
    "%autoreload 2\n",
    "\n",
    "\n",
    "%aimport evaluate\n",
    "\n",
    "import pandas as pd\n",
    "import numpy as np\n",
    "import matplotlib.pyplot as plt\n",
    "import urllib.request\n",
    "import math\n",
    "import os\n",
    "from itertools import chain\n",
    "\n",
    "#geopy modules used for geo-coding\n",
    "import geopy\n",
    "from geopy.distance import vincenty\n",
    "import reverse_geocoder as rg\n",
    "\n",
    "\n",
    "from sklearn import preprocessing\n",
    "from sklearn.pipeline import Pipeline\n",
    "from sklearn.metrics import r2_score\n",
    "from sklearn.metrics import mean_squared_error\n",
    "from sklearn_pandas import DataFrameMapper, cross_val_score\n",
    "from sklearn.ensemble import RandomForestRegressor\n",
    "from sklearn.datasets import make_regression\n",
    "from sklearn.model_selection import train_test_split\n",
    "from sklearn.preprocessing import LabelBinarizer\n",
    "from sklearn.cross_validation import ShuffleSplit\n",
    "from sklearn.model_selection import GridSearchCV\n",
    "\n",
    "from IPython.display import clear_output\n",
    "\n",
    "import evaluate as eval\n",
    "%matplotlib inline"
   ]
  },
  {
   "cell_type": "markdown",
   "metadata": {},
   "source": [
    "### 1. Programmatically download and load the data into pandas dataframe, and report the shape of the data"
   ]
  },
  {
   "cell_type": "code",
   "execution_count": 3,
   "metadata": {
    "collapsed": true
   },
   "outputs": [
    {
     "name": "stdout",
     "output_type": "stream",
     "text": [
      "Number of rows : 1494926 and columns : 21\n"
     ]
    }
   ],
   "source": [
    "#Downloading the data, if not present\n",
    "if not os.path.exists('./gc_data_sept15.csv'):\n",
    "    urllib.request.urlretrieve('https://s3.amazonaws.com/nyc-tlc/trip+data/green_tripdata_2015-09.csv', './gc_data_sept15.csv')  \n",
    "\n",
    "# load the data\n",
    "greentaxi_data = pd.read_csv('./gc_data_sept15.csv')\n",
    "\n",
    "print('Number of rows : {0} and columns : {1}'.format(greentaxi_data.shape[0],greentaxi_data.shape[1]))"
   ]
  },
  {
   "cell_type": "markdown",
   "metadata": {},
   "source": [
    "#### 1.a Preprocessing "
   ]
  },
  {
   "cell_type": "markdown",
   "metadata": {},
   "source": [
    "Before diving into my analysis, let's explore the data in hand to preprocess/clean the data in hand to make our future operations easier."
   ]
  },
  {
   "cell_type": "code",
   "execution_count": 4,
   "metadata": {},
   "outputs": [
    {
     "name": "stdout",
     "output_type": "stream",
     "text": [
      "Index(['VendorID', 'lpep_pickup_datetime', 'Lpep_dropoff_datetime',\n",
      "       'Store_and_fwd_flag', 'RateCodeID', 'Pickup_longitude',\n",
      "       'Pickup_latitude', 'Dropoff_longitude', 'Dropoff_latitude',\n",
      "       'Passenger_count', 'Trip_distance', 'Fare_amount', 'Extra', 'MTA_tax',\n",
      "       'Tip_amount', 'Tolls_amount', 'Ehail_fee', 'improvement_surcharge',\n",
      "       'Total_amount', 'Payment_type', 'Trip_type '],\n",
      "      dtype='object')\n",
      "\n"
     ]
    }
   ],
   "source": [
    "#let's understand what the data is about, by taking a look at it's contents\n",
    "print(str(greentaxi_data.columns) + '\\n')"
   ]
  },
  {
   "cell_type": "markdown",
   "metadata": {},
   "source": [
    "On exploring the data contents, and also referring to data description provided here https://data.cityofnewyork.us/Transportation/2016-Green-Taxi-Trip-Data/hvrh-b6nb . I noticed a lot of scope for improving the data. However, for the sake of keeping this simple, I'm making few trivial preprocessing here before beginning the analysis."
   ]
  },
  {
   "cell_type": "code",
   "execution_count": 5,
   "metadata": {},
   "outputs": [],
   "source": [
    "## I Noticed two columns that fall under datatime category, so i'll be updating the type of the column to reflect the same\n",
    "greentaxi_data.lpep_pickup_datetime = pd.to_datetime(greentaxi_data.lpep_pickup_datetime)\n",
    "greentaxi_data.Lpep_dropoff_datetime = pd.to_datetime(greentaxi_data.Lpep_dropoff_datetime)"
   ]
  },
  {
   "cell_type": "code",
   "execution_count": 6,
   "metadata": {},
   "outputs": [
    {
     "name": "stdout",
     "output_type": "stream",
     "text": [
      "I noticed there are nearly 2110 records with 0 as pickup coords and 1963 records with 0 as dropoff coords. Since this number is quite small relative to overall dataset, let's remove these rows.\n"
     ]
    }
   ],
   "source": [
    "## For records with invalid/missing values, we can either ignore or replace the values with their mean.\n",
    "## And Since we have more then a million records, I'll take my chances by removing rows with invalid/missing values\n",
    "print('I noticed there are nearly {0} records with 0 as pickup coords and {1} records with 0 as dropoff coords. \\\n",
    "Since this number is quite small relative to overall dataset, let\\'s remove these\\\n",
    " rows.'.format(greentaxi_data[greentaxi_data['Pickup_latitude']==0].shape[0], \\\n",
    "             greentaxi_data[greentaxi_data['Dropoff_latitude']==0].shape[0]))"
   ]
  },
  {
   "cell_type": "code",
   "execution_count": 7,
   "metadata": {},
   "outputs": [],
   "source": [
    "greentaxi_data = greentaxi_data[greentaxi_data['Pickup_latitude']!=0]\n",
    "greentaxi_data = greentaxi_data[greentaxi_data['Dropoff_latitude']!=0]\n"
   ]
  },
  {
   "cell_type": "code",
   "execution_count": 8,
   "metadata": {},
   "outputs": [],
   "source": [
    "#removing unnecessary space in column name 'Trip_type ', instead let's just replace all spaces with _\n",
    "greentaxi_data.columns = greentaxi_data.columns.str.replace('\\s+', '_')  # in case there are multiple white spaces\n",
    "#this would be troublesome later, since it's categorical attribuet\n",
    "greentaxi_data['Trip_type_'] = greentaxi_data['Trip_type_'].astype(int)"
   ]
  },
  {
   "cell_type": "code",
   "execution_count": 9,
   "metadata": {},
   "outputs": [
    {
     "name": "stdout",
     "output_type": "stream",
     "text": [
      "(1491377, 21)\n",
      "(1491377, 20)\n"
     ]
    }
   ],
   "source": [
    "# The Ehail_fee seems NaN for all the records, let's drop the column\n",
    "print(greentaxi_data.shape)\n",
    "greentaxi_data = greentaxi_data.drop(['Ehail_fee'],axis=1)\n",
    "print(greentaxi_data.shape)"
   ]
  },
  {
   "cell_type": "markdown",
   "metadata": {},
   "source": [
    "This should be good amount of pre-processing for now, However I did notice a couple of things like, trip_distance being too huge or short as 0, passenger_count being 0 and Fare amount/ Total amount in negative. Also these values doesn't make sense entirely, I have different hypothesis for each of the situations.  \n",
    "1. **Trip Distance** : For values that are 0, passenger might have immediately decided to not continue with the assigned cab as soon as they got in for whatever reasons.\n",
    "2. **Total amount/Fare Amount** : For values that are 0, it may have happened that passengers might have applied a promo code which provides free rides to an event. In some places Lyft/Other taxi services provide free services to Students. It could be the same here. \n",
    "\n",
    "We might lose such trends, so I'll retain these records for now and decide whether to keep/leave them depending on the type of analysis at a later point."
   ]
  },
  {
   "cell_type": "markdown",
   "metadata": {},
   "source": [
    "### 2. Trip Distance Analysis"
   ]
  },
  {
   "cell_type": "markdown",
   "metadata": {},
   "source": [
    "On a personal note, I'd use taxis for short rides and use much cheaper modes of transportation for longer routes.New York City Subway is well connected and I'd usually prefer that mode for long distance rides.\n",
    "\n",
    "On a general note, The distance might be uniform over a large population of riders. Since, people's lifestyle and reasons differ. So, let's take a broad look at the distribution before we proceed to plot the histogram."
   ]
  },
  {
   "cell_type": "code",
   "execution_count": 10,
   "metadata": {},
   "outputs": [
    {
     "name": "stdout",
     "output_type": "stream",
     "text": [
      "count    1.491377e+06\n",
      "mean     2.971604e+00\n",
      "std      3.076073e+00\n",
      "min      0.000000e+00\n",
      "25%      1.100000e+00\n",
      "50%      1.980000e+00\n",
      "75%      3.740000e+00\n",
      "max      6.031000e+02\n",
      "Name: Trip_distance, dtype: float64 \n",
      "Notice, How the max Trip is around 600 miles! It's clearly an outlier that we would have to filter out\n"
     ]
    }
   ],
   "source": [
    "#summarizing the trip distance\n",
    "tripDistance_summary = greentaxi_data.Trip_distance.describe()\n",
    "print(tripDistance_summary,'\\nNotice, How the max Trip is around 600 miles! It\\'s clearly an outlier that we would have to filter out')"
   ]
  },
  {
   "cell_type": "code",
   "execution_count": 11,
   "metadata": {},
   "outputs": [
    {
     "name": "stdout",
     "output_type": "stream",
     "text": [
      "Axes(0.125,0.125;0.352273x0.755)\n",
      "Axes(0.547727,0.125;0.352273x0.755)\n"
     ]
    },
    {
     "data": {
      "image/png": "[encoded data removed]",
      "text/plain": [
       "<matplotlib.figure.Figure at 0x1a2f3e7710>"
      ]
     },
     "metadata": {},
     "output_type": "display_data"
    }
   ],
   "source": [
    "fig,ax = plt.subplots(1,2,figsize = (15,4)) \n",
    "print(greentaxi_data.boxplot(column='Trip_distance', vert=False, ax=ax[0]))\n",
    "ax[0].set_title('Before filtering the Trip distances to be within 6 sigma deviation')\n",
    "#clearly a lot of outliers exist beyond the whisker, so let's filter the data to fall within 6 sigma deviation\n",
    "six_sigma = 6*tripDistance_summary['std']\n",
    "mean = tripDistance_summary['mean']\n",
    "min_bound = mean - six_sigma\n",
    "max_bound = mean+ six_sigma\n",
    "\n",
    "## Since we are trying to understand a general distribution of Trip Distance and not specific use case scenarios when it's zero \n",
    "## let's drop the values that are outliers\n",
    "greentaxi_data = greentaxi_data[ greentaxi_data.Trip_distance > min_bound]\n",
    "greentaxi_data = greentaxi_data[ greentaxi_data.Trip_distance < max_bound]\n",
    "#let's see the box plot again\n",
    "ax[1].set_title('After filtering the Trip distances to be within 6 sigma deviation')\n",
    "print(greentaxi_data.boxplot(column='Trip_distance', vert=False, ax=ax[1]))"
   ]
  },
  {
   "cell_type": "markdown",
   "metadata": {},
   "source": [
    "We can see that the max trip distance is now between 20-25. We can proceed to plot the histogram now, but before doing\n",
    " that, let's compute the best suited bin size using *Freedman-Diaconis rule*."
   ]
  },
  {
   "cell_type": "code",
   "execution_count": 12,
   "metadata": {},
   "outputs": [],
   "source": [
    "def getBinSize(data_distribution):\n",
    "    count = data_distribution['count']\n",
    "    Q3 = data_distribution['75%']\n",
    "    Q1 = data_distribution['25%']\n",
    "    IQR = Q3-Q1\n",
    "    h = 2 * IQR * np.cbrt(count)\n",
    "    bin_width = (data_distribution['max'] - data_distribution['min'] / h)\n",
    "    return (bin_width)"
   ]
  },
  {
   "cell_type": "code",
   "execution_count": 13,
   "metadata": {},
   "outputs": [
    {
     "name": "stdout",
     "output_type": "stream",
     "text": [
      "Bin Size using filtered data : 22 \n"
     ]
    }
   ],
   "source": [
    "tripDistance_summary = greentaxi_data.Trip_distance.describe()\n",
    "bin_width = math.ceil(getBinSize(tripDistance_summary))\n",
    "print('Bin Size using filtered data : {0} '.format(bin_width))"
   ]
  },
  {
   "cell_type": "code",
   "execution_count": 14,
   "metadata": {},
   "outputs": [
    {
     "name": "stdout",
     "output_type": "stream",
     "text": [
      "Axes(0.125,0.125;0.775x0.755)\n"
     ]
    },
    {
     "data": {
      "image/png": "[encoded data removed]",
      "text/plain": [
       "<matplotlib.figure.Figure at 0x1a2f3e7390>"
      ]
     },
     "metadata": {},
     "output_type": "display_data"
    }
   ],
   "source": [
    "print(greentaxi_data.Trip_distance.hist(bins=bin_width,figsize=(15,4), range=[0,25]))"
   ]
  },
  {
   "cell_type": "markdown",
   "metadata": {},
   "source": [
    "The distribution is right skewed, which reflects a trend in which New Yorkers use Green Taxi. If the distribution was random, we could have expected a much more uniform curve. It seems a majority of New Yorkers use taxi cab for short rides less then 5 miles. Probably for commuting between office and home or going around cool city spots (we can analyse the pickup and drop co-ordinates to get a trend on most visited spots by New Yorkers)."
   ]
  },
  {
   "cell_type": "markdown",
   "metadata": {},
   "source": [
    "### 3. Analysing Trip distance throughout a day on an average "
   ]
  },
  {
   "cell_type": "markdown",
   "metadata": {},
   "source": [
    "To understand the trend on how New Yorkers commute during different times in a day, we can group data for pickup hours over a month. This ideally provide us some information about how New Yorkers commute and also introduce us to peak hours *(We can more clearly gather peak hours information by aggregating the data based on count as well)*."
   ]
  },
  {
   "cell_type": "markdown",
   "metadata": {},
   "source": [
    "To perform such analysis we need to derive a pickup_hour feature from our original pickup timestamp :"
   ]
  },
  {
   "cell_type": "code",
   "execution_count": 15,
   "metadata": {
    "collapsed": true
   },
   "outputs": [],
   "source": [
    "greentaxi_data['lpep_pickup_hour'] = greentaxi_data.lpep_pickup_datetime.apply(lambda x:x.hour)"
   ]
  },
  {
   "cell_type": "markdown",
   "metadata": {},
   "source": [
    "We can aggregate the enriched dataframe based on hour to compute the mean and median of trip_distances"
   ]
  },
  {
   "cell_type": "code",
   "execution_count": 16,
   "metadata": {
    "collapsed": true
   },
   "outputs": [
    {
     "name": "stdout",
     "output_type": "stream",
     "text": [
      "                      mean  median\n",
      "lpep_pickup_hour                  \n",
      "0                 3.088108    2.20\n",
      "1                 2.987526    2.12\n",
      "2                 3.011631    2.14\n",
      "3                 3.149565    2.20\n",
      "4                 3.469498    2.35\n",
      "5                 4.070486    2.90\n",
      "6                 3.967659    2.83\n",
      "7                 3.241248    2.17\n",
      "8                 3.011294    1.98\n",
      "9                 2.959812    1.96\n",
      "10                2.904888    1.91\n",
      "11                2.861838    1.87\n",
      "12                2.864586    1.89\n",
      "13                2.834942    1.84\n",
      "14                2.820025    1.82\n",
      "15                2.811727    1.81\n",
      "16                2.744149    1.80\n",
      "17                2.648210    1.78\n",
      "18                2.628751    1.80\n",
      "19                2.695580    1.85\n",
      "20                2.752623    1.90\n",
      "21                2.967541    2.03\n",
      "22                3.148952    2.20\n",
      "23                3.168033    2.22\n"
     ]
    }
   ],
   "source": [
    "trip_distance_analysis = pd.pivot_table(greentaxi_data,values='Trip_distance',index=['lpep_pickup_hour'], aggfunc=('mean','median'))\n",
    "print(trip_distance_analysis)"
   ]
  },
  {
   "cell_type": "code",
   "execution_count": 17,
   "metadata": {},
   "outputs": [
    {
     "data": {
      "text/plain": [
       "<matplotlib.axes._subplots.AxesSubplot at 0x1a238f8c88>"
      ]
     },
     "execution_count": 17,
     "metadata": {},
     "output_type": "execute_result"
    },
    {
     "data": {
      "image/png": "[encoded data removed]",
      "text/plain": [
       "<matplotlib.figure.Figure at 0x1a238f8710>"
      ]
     },
     "metadata": {},
     "output_type": "display_data"
    }
   ],
   "source": [
    "trip_distance_analysis.plot.area()"
   ]
  },
  {
   "cell_type": "markdown",
   "metadata": {},
   "source": [
    "The above area plot and the spreadsheet values show us the spread of Trip Distance over different hours in a day. Notice that hour 4 AM there is a slight increase in commute distance that contiues to peak around 5 AM, and gradually fall to normal level at around 7 AM. The curve falls to it's lowest around between 4 PM - 6 PM, before it continues to raise to some extent at Midnight.  \n",
    "\n",
    "Some thoughts, on this would be *maybe folks who are commuting early in the morning are probably getting an headstart on their long ride from Home to Office or commuting to airports*.  \n",
    "\n",
    "We see a drop in the evenings, but we could have expected this to be high since folks would be heading back from work around that time frame. However, it's not the scenario reflected here. One possible hypothesis could be that most New Yorkers prefer to take alternate modes of transportation like Subway during peak hours when the traffic is expected to be high. *(We can confirm this hypothesis by gathering such data from NYC SubWay and traffic information)*"
   ]
  },
  {
   "cell_type": "markdown",
   "metadata": {},
   "source": [
    "### 3.b Airport Ride analysis"
   ]
  },
  {
   "cell_type": "markdown",
   "metadata": {},
   "source": [
    "For our next part of the analysis, we'd need to filter the original data to derive only those rides which have airports as either their pickup or drop point.\n",
    "\n",
    "While gathering information based on coordinates, I noticed that apart from the Major airports in New York like **JFK** and **Laguardia**, there were rides from/to **Newark Liberty International Airport**. This is interesting since Newark Airport is quite far from New York, so let's check if this is a common trend."
   ]
  },
  {
   "cell_type": "markdown",
   "metadata": {},
   "source": [
    "*Note : I'm using an external api called geopy to calculate the distance between pickup/drop points and these airports and considering rides that fall within 1 mile radius of these airports as airport rides*.\n",
    "\n",
    "I did observe a field named **RatecodeId** that suggests certain id for *JFK and Newark*, but on verifying those records with the ones that I was able to get from below, This was more accurate. I was able to get airport rides that had RateCodeID beyond 2 & 3 which were mentioned in the data dictionary. So, I decided to stick with this approach to get airport rides."
   ]
  },
  {
   "cell_type": "code",
   "execution_count": 18,
   "metadata": {
    "collapsed": true
   },
   "outputs": [],
   "source": [
    "# return 1 if pickup/drop is close to airport\n",
    "def closeToAirport(airport, pickup_point, drop_point):\n",
    "    return 1 if (vincenty(airport, pickup_point).miles < 1) or (vincenty(airport, drop_point).miles < 1) else 0"
   ]
  },
  {
   "cell_type": "code",
   "execution_count": 19,
   "metadata": {
    "collapsed": true
   },
   "outputs": [],
   "source": [
    "JFK_coords = (40.6413111, -73.7781391) \n",
    "Newark_coords = (40.6895314,-74.17446239999998)\n",
    "laguardia_coords = (40.7769271, -73.87396590000003)"
   ]
  },
  {
   "cell_type": "code",
   "execution_count": 20,
   "metadata": {
    "collapsed": true
   },
   "outputs": [],
   "source": [
    "#adding a safety check to avoid unnecessary re-computations if I accidentally run the cell\n",
    "def enrich_airport_info(greentaxi_data, override=False):\n",
    "    if 'JFK_airport' not in greentaxi_data.columns or override:\n",
    "        greentaxi_data['JFK_airport'] = greentaxi_data.apply(lambda x: closeToAirport(JFK_coords, (x['Pickup_latitude'],x['Pickup_longitude']), (x['Dropoff_latitude'],x['Dropoff_longitude']) ), axis=1)\n",
    "    if 'Newark_airport' not in greentaxi_data.columns or override:\n",
    "        greentaxi_data['Newark_airport'] = greentaxi_data.apply(lambda x: closeToAirport(Newark_coords, (x['Pickup_latitude'],x['Pickup_longitude']), (x['Dropoff_latitude'],x['Dropoff_longitude']) ), axis=1)\n",
    "    if 'LaGuardia_airport' not in greentaxi_data.columns or override:\n",
    "        greentaxi_data['LaGuardia_airport'] = greentaxi_data.apply(lambda x: closeToAirport(laguardia_coords, (x['Pickup_latitude'],x['Pickup_longitude']), (x['Dropoff_latitude'],x['Dropoff_longitude']) ), axis=1)\n",
    "    return greentaxi_data"
   ]
  },
  {
   "cell_type": "code",
   "execution_count": 21,
   "metadata": {},
   "outputs": [],
   "source": [
    "greentaxi_data = enrich_airport_info(greentaxi_data)\n",
    "airport_rides  = greentaxi_data[ (greentaxi_data['JFK_airport'] ==1) | (greentaxi_data['Newark_airport'] ==1) | (greentaxi_data['LaGuardia_airport'] ==1)  ] "
   ]
  },
  {
   "cell_type": "code",
   "execution_count": 22,
   "metadata": {},
   "outputs": [
    {
     "name": "stdout",
     "output_type": "stream",
     "text": [
      "There were in total of 41787 Airport Rides\n"
     ]
    }
   ],
   "source": [
    "print('There were in total of {0} Airport Rides'.format(airport_rides.shape[0]))"
   ]
  },
  {
   "cell_type": "code",
   "execution_count": 23,
   "metadata": {},
   "outputs": [
    {
     "data": {
      "text/plain": [
       "count    41787.000000\n",
       "mean        25.818955\n",
       "std         15.594533\n",
       "min        -45.000000\n",
       "25%         12.000000\n",
       "50%         22.500000\n",
       "75%         37.000000\n",
       "max        450.000000\n",
       "Name: Fare_amount, dtype: float64"
      ]
     },
     "execution_count": 23,
     "metadata": {},
     "output_type": "execute_result"
    }
   ],
   "source": [
    "airport_rides.Fare_amount.describe()"
   ]
  },
  {
   "cell_type": "code",
   "execution_count": 24,
   "metadata": {},
   "outputs": [
    {
     "data": {
      "text/plain": [
       "<matplotlib.axes._subplots.AxesSubplot at 0x1a24a3ada0>"
      ]
     },
     "execution_count": 24,
     "metadata": {},
     "output_type": "execute_result"
    },
    {
     "data": {
      "image/png": "[encoded data removed]",
      "text/plain": [
       "<matplotlib.figure.Figure at 0x1a20d9a5f8>"
      ]
     },
     "metadata": {},
     "output_type": "display_data"
    }
   ],
   "source": [
    "airport_rides.boxplot(column='Fare_amount', vert=False)"
   ]
  },
  {
   "cell_type": "markdown",
   "metadata": {},
   "source": [
    "Similar to how we noticed outliers while analysing Trip Distances, there are few outliers here as well. Let's remove the outliers before computing the mean of the data"
   ]
  },
  {
   "cell_type": "code",
   "execution_count": 25,
   "metadata": {
    "collapsed": true
   },
   "outputs": [],
   "source": [
    "fareAmount_summary = airport_rides.Fare_amount.describe()\n",
    "six_sigma = 6*fareAmount_summary['std']\n",
    "mean = fareAmount_summary['mean']\n",
    "max_bound = mean+ six_sigma\n",
    "airport_rides = airport_rides[ airport_rides.Fare_amount > 0]\n",
    "airport_rides = airport_rides[ airport_rides.Fare_amount < max_bound]"
   ]
  },
  {
   "cell_type": "code",
   "execution_count": 26,
   "metadata": {},
   "outputs": [
    {
     "data": {
      "text/plain": [
       "<matplotlib.axes._subplots.AxesSubplot at 0x1a62ae0208>"
      ]
     },
     "execution_count": 26,
     "metadata": {},
     "output_type": "execute_result"
    },
    {
     "data": {
      "image/png": "[encoded data removed]",
      "text/plain": [
       "<matplotlib.figure.Figure at 0x1a1fcc3898>"
      ]
     },
     "metadata": {},
     "output_type": "display_data"
    }
   ],
   "source": [
    "airport_rides.boxplot(column='Fare_amount', vert=False)"
   ]
  },
  {
   "cell_type": "code",
   "execution_count": 27,
   "metadata": {},
   "outputs": [
    {
     "data": {
      "text/plain": [
       "count    41631.000000\n",
       "mean        25.866530\n",
       "std         15.243634\n",
       "min          0.010000\n",
       "25%         12.500000\n",
       "50%         22.500000\n",
       "75%         37.000000\n",
       "max        112.000000\n",
       "Name: Fare_amount, dtype: float64"
      ]
     },
     "execution_count": 27,
     "metadata": {},
     "output_type": "execute_result"
    }
   ],
   "source": [
    "airport_rides.Fare_amount.describe()"
   ]
  },
  {
   "cell_type": "markdown",
   "metadata": {},
   "source": [
    "On an average we see that airport rides fare is around 25$"
   ]
  },
  {
   "cell_type": "markdown",
   "metadata": {},
   "source": [
    "** While analysing, I observerd there were few rides that had both JFK and Laguardia listed as true. ** Where these rides really originating from one airport and was dropped at another? Infact, it was indeed. On googling these coordinates I was able to get either pickup or destination as one or the other airport."
   ]
  },
  {
   "cell_type": "code",
   "execution_count": 28,
   "metadata": {},
   "outputs": [],
   "source": [
    "jfk_laguardia = airport_rides[  (airport_rides['JFK_airport'] ==1) & (airport_rides['LaGuardia_airport'] ==1)  ]"
   ]
  },
  {
   "cell_type": "code",
   "execution_count": 29,
   "metadata": {},
   "outputs": [
    {
     "data": {
      "text/plain": [
       "count    64.000000\n",
       "mean     25.147656\n",
       "std      10.226822\n",
       "min      16.500000\n",
       "25%      16.500000\n",
       "50%      16.525000\n",
       "75%      33.500000\n",
       "max      60.000000\n",
       "Name: Fare_amount, dtype: float64"
      ]
     },
     "execution_count": 29,
     "metadata": {},
     "output_type": "execute_result"
    }
   ],
   "source": [
    "jfk_laguardia.Fare_amount.describe()"
   ]
  },
  {
   "cell_type": "markdown",
   "metadata": {},
   "source": [
    "Nearly 50% of the rides have a minimum fare, beyond which we can notice the fare may go as high as upto 60"
   ]
  },
  {
   "cell_type": "code",
   "execution_count": 30,
   "metadata": {},
   "outputs": [
    {
     "data": {
      "text/plain": [
       "<matplotlib.axes._subplots.AxesSubplot at 0x1a1d2380f0>"
      ]
     },
     "execution_count": 30,
     "metadata": {},
     "output_type": "execute_result"
    },
    {
     "data": {
      "image/png": "[encoded data removed]",
      "text/plain": [
       "<matplotlib.figure.Figure at 0x1a1d23c908>"
      ]
     },
     "metadata": {},
     "output_type": "display_data"
    }
   ],
   "source": [
    "jfk_laguardia.boxplot(column='Trip_distance', vert=False)"
   ]
  },
  {
   "cell_type": "markdown",
   "metadata": {},
   "source": [
    "We can notice that the Trip distance is quite consistent and spread between 10 and 14 miles at max with few outliers and at an average of 12 miles."
   ]
  },
  {
   "cell_type": "markdown",
   "metadata": {},
   "source": [
    "### 4. Tip Percent Analysis"
   ]
  },
  {
   "cell_type": "markdown",
   "metadata": {},
   "source": [
    "We can calculate the tip percent using (tip_amount/total_amount) * 100. Let's derive the variable for the taxi data set."
   ]
  },
  {
   "cell_type": "code",
   "execution_count": 31,
   "metadata": {},
   "outputs": [],
   "source": [
    "greentaxi_data['tip_percent'] = greentaxi_data.apply(\\\n",
    "                                    lambda ride: 0 if ride['Total_amount'] ==0 \\\n",
    "                                                else ((ride['Tip_amount']*100)/ride['Total_amount']),\\\n",
    "                                    axis=1)"
   ]
  },
  {
   "cell_type": "markdown",
   "metadata": {},
   "source": [
    "There were certain rides which had tip_percent as 100, these could be erraneous or genuine tips, we are not sure. However, to generalize the analysis, let's seperate these rides from the overall data and analyze it later. "
   ]
  },
  {
   "cell_type": "code",
   "execution_count": 32,
   "metadata": {},
   "outputs": [],
   "source": [
    "tip_percent_100 = greentaxi_data[greentaxi_data['tip_percent'] == 100]"
   ]
  },
  {
   "cell_type": "code",
   "execution_count": 33,
   "metadata": {},
   "outputs": [],
   "source": [
    "greentaxi_data = greentaxi_data[greentaxi_data['tip_percent'] < 100]"
   ]
  },
  {
   "cell_type": "markdown",
   "metadata": {},
   "source": [
    "Let's see the distribution of the tip_percent using this filtered data."
   ]
  },
  {
   "cell_type": "code",
   "execution_count": 34,
   "metadata": {},
   "outputs": [
    {
     "data": {
      "text/plain": [
       "<matplotlib.axes._subplots.AxesSubplot at 0x11719b828>"
      ]
     },
     "execution_count": 34,
     "metadata": {},
     "output_type": "execute_result"
    },
    {
     "data": {
      "image/png": "[encoded data removed]",
      "text/plain": [
       "<matplotlib.figure.Figure at 0x1a24a47a90>"
      ]
     },
     "metadata": {},
     "output_type": "display_data"
    }
   ],
   "source": [
    "greentaxi_data.boxplot(column='tip_percent', vert=False)"
   ]
  },
  {
   "cell_type": "markdown",
   "metadata": {},
   "source": [
    "We can notice that inspite of filtering out tip_percent which were exactly 100, there seems to be rides with almost 100% tip. Let's filter these out using six sigma deviation as above."
   ]
  },
  {
   "cell_type": "code",
   "execution_count": 35,
   "metadata": {},
   "outputs": [],
   "source": [
    "tipPercent_summary = greentaxi_data.tip_percent.describe()\n",
    "six_sigma = 6*tipPercent_summary['std']\n",
    "mean = tipPercent_summary['mean']\n",
    "max_bound = mean+ six_sigma\n",
    "greentaxi_data = greentaxi_data[ greentaxi_data.tip_percent < max_bound]"
   ]
  },
  {
   "cell_type": "code",
   "execution_count": 36,
   "metadata": {},
   "outputs": [
    {
     "data": {
      "text/plain": [
       "<matplotlib.axes._subplots.AxesSubplot at 0x1a7aa19f98>"
      ]
     },
     "execution_count": 36,
     "metadata": {},
     "output_type": "execute_result"
    },
    {
     "data": {
      "image/png": "[encoded data removed]",
      "text/plain": [
       "<matplotlib.figure.Figure at 0x1a1d22a7f0>"
      ]
     },
     "metadata": {},
     "output_type": "display_data"
    }
   ],
   "source": [
    "greentaxi_data.boxplot(column='tip_percent', vert=False)"
   ]
  },
  {
   "cell_type": "code",
   "execution_count": 37,
   "metadata": {},
   "outputs": [
    {
     "name": "stdout",
     "output_type": "stream",
     "text": [
      "Axes(0.125,0.125;0.775x0.755)\n"
     ]
    },
    {
     "data": {
      "image/png": "[encoded data removed]",
      "text/plain": [
       "<matplotlib.figure.Figure at 0x1183762b0>"
      ]
     },
     "metadata": {},
     "output_type": "display_data"
    }
   ],
   "source": [
    "tip_bin_width = math.ceil(getBinSize(greentaxi_data.tip_percent.describe()))\n",
    "fig,ax = plt.subplots(figsize = (15,4))\n",
    "#Since the number of rides with zero tip_percent is significantly higher then rest, I'm taking the\n",
    "# number of records in log scale to be able to understand the pattern\n",
    "ax.set_yscale('log')\n",
    "ax.set_xlabel('Tip Percent')\n",
    "ax.set_ylabel('Number of Rides (log scale)')\n",
    "ax.set_title('Tip Percent Distribution')\n",
    "print(greentaxi_data.tip_percent.hist(bins=tip_bin_width,figsize=(15,4)))"
   ]
  },
  {
   "cell_type": "markdown",
   "metadata": {},
   "source": [
    "The right skewed distribution here shows that majority of New Yorkers tip within 25% of their Total Fare amount.\n",
    "Also, It's interesting to see those **4 peaks** within the distribution. *One possible hypothesis is these could be one of the default options while selecting the tip percent, i.e (0 , 10, 15, 20, 25)*.   \n",
    "Usually, if the total amount is less then 10$, folks tend to tip 10% otherwise a minimum of 15%. This could be the reason why we don't see a spike at 10%. (For now, I'll not dig deeper here)"
   ]
  },
  {
   "cell_type": "code",
   "execution_count": 39,
   "metadata": {},
   "outputs": [
    {
     "data": {
      "text/plain": [
       "Index(['VendorID', 'lpep_pickup_datetime', 'Lpep_dropoff_datetime',\n",
       "       'Store_and_fwd_flag', 'RateCodeID', 'Pickup_longitude',\n",
       "       'Pickup_latitude', 'Dropoff_longitude', 'Dropoff_latitude',\n",
       "       'Passenger_count', 'Trip_distance', 'Fare_amount', 'Extra', 'MTA_tax',\n",
       "       'Tip_amount', 'Tolls_amount', 'improvement_surcharge', 'Total_amount',\n",
       "       'Payment_type', 'Trip_type_', 'lpep_pickup_hour', 'JFK_airport',\n",
       "       'Newark_airport', 'LaGuardia_airport', 'tip_percent'],\n",
       "      dtype='object')"
      ]
     },
     "execution_count": 39,
     "metadata": {},
     "output_type": "execute_result"
    }
   ],
   "source": [
    "greentaxi_data.columns"
   ]
  },
  {
   "cell_type": "markdown",
   "metadata": {},
   "source": [
    "#### 4.2 Predicitive model with tip_percent as target"
   ]
  },
  {
   "cell_type": "markdown",
   "metadata": {},
   "source": [
    "*For my further analysis, I referred a paper https://cseweb.ucsd.edu/classes/wi17/cse258-a/reports/a075.pdf to base my initial assumptions and approach.*  \n",
    "Since tip percent, may rely on lot factors including geographical, I decided to enrich the original data to leverage certain features like boroughs/county's where the ride happened.\n",
    "Also, due to some time consuming tasks that I'll be running going forward, I have decided to use only a subset of the original data. I'll keep the model simple to cover the important aspects of building a model, but will not be spending too much time optimizing the performance."
   ]
  },
  {
   "cell_type": "code",
   "execution_count": 40,
   "metadata": {
    "collapsed": true
   },
   "outputs": [],
   "source": [
    "# defining a class to derive county information based on pickup and dropoff coordinates\n",
    "class GeoCoder():\n",
    "    \n",
    "    def __init__ (self, dataframe):\n",
    "        self.dataframe = dataframe\n",
    "\n",
    "    def getEncodedDf(self, dataframe = None, override = False):\n",
    "        if (dataframe is None):\n",
    "            dataframe = self.dataframe\n",
    "          \n",
    "        if ( ('Pickup_borough' in dataframe.columns or 'Dropoff_borough' in dataframe.columns ) and not override):\n",
    "            return dataframe\n",
    "        prev = pd.options.mode.chained_assignment\n",
    "        pd.options.mode.chained_assignment = None\n",
    "        pickp_points = [ (each[0],each[1]) for each in np.transpose(np.asarray((dataframe['Pickup_latitude'],dataframe['Pickup_longitude'])))]\n",
    "        dropoff_points = [ (each[0],each[1]) for each in np.transpose(np.asarray((dataframe['Dropoff_latitude'],dataframe['Dropoff_longitude'])))]\n",
    "        pickp_points = rg.search(pickp_points)\n",
    "        dropoff_points = rg.search(dropoff_points)\n",
    "        \n",
    "        dataframe['Pickup_borough'] = [each['admin2'].split(' County')[0] if each['admin2'] is not '' else 'Unknown' for each in pickp_points]\n",
    "        dataframe['Dropoff_borough'] = [each['admin2'].split(' County')[0] if each['admin2'] is not '' else 'Unknown' for each in dropoff_points]\n",
    "        \n",
    "        # We are formatting the county names in their respective borough names\n",
    "        dataframe.loc[dataframe['Pickup_borough'] == 'New York','Pickup_borough'] = 'Manhattan'\n",
    "        dataframe.loc[dataframe['Pickup_borough'] == 'Kings','Pickup_borough'] = 'Brooklyn'\n",
    "        dataframe.loc[dataframe['Pickup_borough'] == 'Richmond','Pickup_borough'] = 'Staten Island'\n",
    "\n",
    "        dataframe.loc[dataframe['Dropoff_borough'] == 'New York','Dropoff_borough'] = 'Manhattan'\n",
    "        dataframe.loc[dataframe['Dropoff_borough'] == 'Kings','Dropoff_borough'] = 'Brooklyn'\n",
    "        dataframe.loc[dataframe['Dropoff_borough'] == 'Richmond','Dropoff_borough'] = 'Staten Island'\n",
    "\n",
    "        print('Unique Pickup Boroughs : {0} \\nUnique DropOff Boroughs : {1} \\n'.format(np.unique(dataframe.Pickup_borough), np.unique(dataframe.Dropoff_borough)) )\n",
    "        pd.options.mode.chained_assignment = prev\n",
    "        return(dataframe)\n"
   ]
  },
  {
   "cell_type": "code",
   "execution_count": 41,
   "metadata": {},
   "outputs": [],
   "source": [
    "class EnrichFeatures():\n",
    "    \n",
    "    def __init__(self,dataframe):\n",
    "        self.dataframe = dataframe\n",
    "    \n",
    "    def getEnrichedDf(self,dataframe=None, override = False):\n",
    "        if (dataframe is None):\n",
    "            dataframe = self.dataframe\n",
    "        \n",
    "        #adding airport details\n",
    "        dataframe_AirportInfo = enrich_airport_info(dataframe, override)\n",
    "        \n",
    "        #adding borough details\n",
    "        gCoder = GeoCoder(dataframe_AirportInfo)\n",
    "        enrichedDF = gCoder.getEncodedDf(override = override)\n",
    "        \n",
    "        return enrichedDF\n",
    "    "
   ]
  },
  {
   "cell_type": "code",
   "execution_count": 42,
   "metadata": {},
   "outputs": [
    {
     "name": "stdout",
     "output_type": "stream",
     "text": [
      "Loading formatted geocoded file...\n",
      "Unique Pickup Boroughs : ['Atlantic' 'Bergen' 'Bronx' 'Brooklyn' 'Delaware' 'Essex' 'Fairfield'\n",
      " 'Hudson' 'Manhattan' 'Middlesex' 'Monmouth' 'Montgomery' 'Nassau'\n",
      " 'New Haven' 'Oakland' 'Ocean' 'Orange' 'Passaic' 'Pike' 'Queens'\n",
      " 'Rockland' 'Somerset' 'Staten Island' 'Strafford' 'Suffolk' 'Tolland'\n",
      " 'Union' 'Unknown' 'Westchester'] \n",
      "Unique DropOff Boroughs : ['Atlantic' 'Bergen' 'Bronx' 'Brooklyn' 'Bucks' 'Burlington' 'Delaware'\n",
      " 'Essex' 'Fairfield' 'Hudson' 'Manhattan' 'Middlesex' 'Monmouth' 'Nassau'\n",
      " 'New Haven' 'Oakland' 'Ocean' 'Orange' 'Passaic' 'Pike' 'Queens'\n",
      " 'Rockland' 'Somerset' 'Staten Island' 'Suffolk' 'Tolland' 'Union'\n",
      " 'Unknown' 'Wayne' 'Westchester'] \n",
      "\n"
     ]
    }
   ],
   "source": [
    "featurizer = EnrichFeatures(greentaxi_data)\n",
    "enrichedData = featurizer.getEnrichedDf()"
   ]
  },
  {
   "cell_type": "markdown",
   "metadata": {},
   "source": [
    "Notice that the dataset has many counties that are part of New York State and also New Jersey. We'll visualize both of these, but for building the model I'll taken only the New york city ride information"
   ]
  },
  {
   "cell_type": "code",
   "execution_count": 43,
   "metadata": {},
   "outputs": [],
   "source": [
    "nyc_borough_rides = enrichedData[enrichedData['Dropoff_borough'].isin(['Brooklyn','Bronx','Manhattan','Staten Island','Queens'])]\n",
    "nyc_borough_rides = nyc_borough_rides[nyc_borough_rides['Pickup_borough'].isin(['Brooklyn','Bronx','Manhattan','Staten Island','Queens'])]"
   ]
  },
  {
   "cell_type": "code",
   "execution_count": 44,
   "metadata": {},
   "outputs": [],
   "source": [
    "predictors = [ 'Payment_type', 'Trip_type_','lpep_pickup_hour','RateCodeID',\\\n",
    "              'JFK_airport', 'Newark_airport', 'LaGuardia_airport',\\\n",
    "              'Pickup_borough','Dropoff_borough','Store_and_fwd_flag',\\\n",
    "              'Passenger_count', 'Trip_distance', 'Fare_amount', \\\n",
    "              'Extra', 'MTA_tax','Tip_amount', 'Tolls_amount', 'improvement_surcharge','Total_amount']\n",
    "# defining a transformation step, to transform all the categorical attributes to numerical by one hot encoding using sklearn binarizer\n",
    "def featurize(predictors):\n",
    "    transformations = [(['Payment_type', 'Trip_type_','lpep_pickup_hour','RateCodeID',\\\n",
    "                              'JFK_airport', 'Newark_airport', 'LaGuardia_airport',\\\n",
    "                              'Pickup_borough','Dropoff_borough','Store_and_fwd_flag'], LabelBinarizer(sparse_output=True)),\n",
    "                            (['Passenger_count', 'Trip_distance', 'Fare_amount', \\\n",
    "                              'Extra', 'MTA_tax','Tip_amount', 'Tolls_amount', \\\n",
    "                              'improvement_surcharge','Total_amount'], None)]\n",
    "    \n",
    "    transformations = list(chain(*list(map(lambda x: [(each,x[1]) for each in x[0]],transformations) ) ) )\n",
    "    return DataFrameMapper(list(filter(lambda x: x[0] in predictors, transformations)))"
   ]
  },
  {
   "cell_type": "code",
   "execution_count": 45,
   "metadata": {},
   "outputs": [],
   "source": [
    "target = list(nyc_borough_rides['tip_percent'])\n",
    "features = pd.DataFrame(data=nyc_borough_rides.drop(['tip_percent'],axis=1))\n",
    "fearures = features.reset_index()"
   ]
  },
  {
   "cell_type": "code",
   "execution_count": 72,
   "metadata": {},
   "outputs": [],
   "source": [
    "X_train, X_test, y_train, y_test = train_test_split(features[:25000], target[:25000], test_size = 0.4, random_state = 20)\n",
    "X_train = X_train.reset_index().drop(['index'],axis=1)\n",
    "X_test = X_test.reset_index().drop(['index'],axis=1)"
   ]
  },
  {
   "cell_type": "code",
   "execution_count": 73,
   "metadata": {},
   "outputs": [],
   "source": [
    "\n",
    "pipeline = Pipeline([('featuriz', featurize(features)), ('forest', RandomForestRegressor())])\n",
    "cv_sets = ShuffleSplit(X_train.shape[0], n_iter = 10, test_size = 0.20, random_state = 0)\n"
   ]
  },
  {
   "cell_type": "code",
   "execution_count": 52,
   "metadata": {},
   "outputs": [
    {
     "name": "stderr",
     "output_type": "stream",
     "text": [
      "/Users/rvsandeep/anaconda3/lib/python3.6/site-packages/numpy/lib/arraysetops.py:463: FutureWarning: elementwise comparison failed; returning scalar instead, but in the future will perform elementwise comparison\n",
      "  mask |= (ar1 == a)\n"
     ]
    },
    {
     "name": "stdout",
     "output_type": "stream",
     "text": [
      "checking import\n"
     ]
    },
    {
     "data": {
      "image/png": "[encoded data removed]",
      "text/plain": [
       "<matplotlib.figure.Figure at 0x1a215e35c0>"
      ]
     },
     "metadata": {},
     "output_type": "display_data"
    }
   ],
   "source": [
    "eval.ModelComplexity(pipeline.steps[0][1].fit_transform(X_train.copy()),y_train)"
   ]
  },
  {
   "cell_type": "markdown",
   "metadata": {},
   "source": [
    "Model Complexity graph provides us information on how the score of the model varies as we increase the complexity of the model. Since I'm using RandomForestRegressor, I'm depending on max depth of the tree as the complexity measure and keeping all the other attribtes constant.\n",
    "\n",
    "Based on the result, we can see that a model with 10 depth is providing an optimal score. \n",
    "We can reconfirm this later by fitting the data using grid search to derive the best model"
   ]
  },
  {
   "cell_type": "code",
   "execution_count": 58,
   "metadata": {},
   "outputs": [
    {
     "name": "stderr",
     "output_type": "stream",
     "text": [
      "/Users/rvsandeep/anaconda3/lib/python3.6/site-packages/numpy/lib/arraysetops.py:463: FutureWarning: elementwise comparison failed; returning scalar instead, but in the future will perform elementwise comparison\n",
      "  mask |= (ar1 == a)\n"
     ]
    },
    {
     "data": {
      "image/png": "[encoded data removed]",
      "text/plain": [
       "<matplotlib.figure.Figure at 0x1a1e665828>"
      ]
     },
     "metadata": {},
     "output_type": "display_data"
    }
   ],
   "source": [
    "eval.ModelLearning(pipeline.steps[0][1].fit_transform(X_train[:10000].copy()),y_train[:10000])"
   ]
  },
  {
   "cell_type": "markdown",
   "metadata": {},
   "source": [
    "Model learning curves helps us understand how number of training points and max depth play a factor for training and testing score.\n",
    "\n",
    "We can observe that after a certain number of training points, the curves converge and become smooth. Beyond these many samples, no matter how many samples get added, the performance of the model doesn't vary much. This shows us whether we would need to use the entire training data or subsample such that we take a sample that provides the best score."
   ]
  },
  {
   "cell_type": "code",
   "execution_count": 74,
   "metadata": {},
   "outputs": [],
   "source": [
    "# Based on above learnings, we can sample the data or tune the hyperparameter more close to the ones \n",
    "# that performed well.\n",
    "params = {'forest__max_depth':(2,3,4,7,10)}\n",
    "grid = GridSearchCV(pipeline,param_grid=params, cv=cv_sets)"
   ]
  },
  {
   "cell_type": "code",
   "execution_count": 75,
   "metadata": {},
   "outputs": [],
   "source": [
    "best_pipeline = grid.fit(X_train.reset_index().drop(['index'],axis=1).copy(), y_train).best_estimator_\n"
   ]
  },
  {
   "cell_type": "code",
   "execution_count": 76,
   "metadata": {},
   "outputs": [
    {
     "data": {
      "text/plain": [
       "0.99656184971568018"
      ]
     },
     "execution_count": 76,
     "metadata": {},
     "output_type": "execute_result"
    }
   ],
   "source": [
    "# We can use the best pipeline estimated by our Grid Search model to further make predictions on the test dataset\n",
    "r2_score(y_test,best_pipeline.predict(X_test))"
   ]
  },
  {
   "cell_type": "code",
   "execution_count": 77,
   "metadata": {},
   "outputs": [
    {
     "data": {
      "text/plain": [
       "[('featuriz', DataFrameMapper(default=False, df_out=False,\n",
       "          features=[('Payment_type', LabelBinarizer(neg_label=0, pos_label=1, sparse_output=True)), ('Trip_type_', LabelBinarizer(neg_label=0, pos_label=1, sparse_output=True)), ('lpep_pickup_hour', LabelBinarizer(neg_label=0, pos_label=1, sparse_output=True)), ('RateCodeID', LabelBinarizer(neg_label=0, pos_l...Tip_amount', None), ('Tolls_amount', None), ('improvement_surcharge', None), ('Total_amount', None)],\n",
       "          input_df=False, sparse=False)),\n",
       " ('forest',\n",
       "  RandomForestRegressor(bootstrap=True, criterion='mse', max_depth=10,\n",
       "             max_features='auto', max_leaf_nodes=None,\n",
       "             min_impurity_decrease=0.0, min_impurity_split=None,\n",
       "             min_samples_leaf=1, min_samples_split=2,\n",
       "             min_weight_fraction_leaf=0.0, n_estimators=10, n_jobs=1,\n",
       "             oob_score=False, random_state=None, verbose=0, warm_start=False))]"
      ]
     },
     "execution_count": 77,
     "metadata": {},
     "output_type": "execute_result"
    }
   ],
   "source": [
    "best_pipeline.steps"
   ]
  },
  {
   "cell_type": "markdown",
   "metadata": {},
   "source": [
    "We can confirm that the best forest has a max depth of 10."
   ]
  },
  {
   "cell_type": "markdown",
   "metadata": {},
   "source": [
    "### Option B - Visualizing Intra - Inter borough rides"
   ]
  },
  {
   "cell_type": "markdown",
   "metadata": {},
   "source": [
    "Along with boroughs, Since I was able to get a lot of county information, I'll visualize as a whole as well.\n",
    "\n",
    "**Visualizing borough can be found here,\n",
    "http://rvsandeep.com/nycanalytics/borough/**"
   ]
  },
  {
   "cell_type": "code",
   "execution_count": 78,
   "metadata": {},
   "outputs": [],
   "source": [
    "grouped_boroughs = nyc_borough_rides.groupby(['Pickup_borough','Dropoff_borough']).size().reset_index(name='count')"
   ]
  },
  {
   "cell_type": "code",
   "execution_count": 79,
   "metadata": {},
   "outputs": [],
   "source": [
    "grouped_boroughs['pickup-dropoff'] = pd.Series(['-'.join(row.astype(str)) for row in grouped_boroughs[['Pickup_borough','Dropoff_borough']].values], index=grouped_boroughs.index)"
   ]
  },
  {
   "cell_type": "markdown",
   "metadata": {},
   "source": [
    "Pre-processing to generate the aggregate of pickup-dropoff for visualizing using D3.JS "
   ]
  },
  {
   "cell_type": "code",
   "execution_count": 80,
   "metadata": {},
   "outputs": [],
   "source": [
    "grouped_boroughs[['pickup-dropoff','count']].to_csv('./borough_rides.csv',index=False)"
   ]
  },
  {
   "cell_type": "markdown",
   "metadata": {},
   "source": [
    "**Visualizing overall county can be found here, http://rvsandeep.com/nycanalytics/county/**"
   ]
  },
  {
   "cell_type": "code",
   "execution_count": 83,
   "metadata": {},
   "outputs": [],
   "source": [
    "overall_rides = enrichedData\n",
    "overall_rides = overall_rides[overall_rides['Pickup_borough'] != 'Unknown']\n",
    "overall_rides = overall_rides[overall_rides['Dropoff_borough'] != 'Unknown']"
   ]
  },
  {
   "cell_type": "code",
   "execution_count": 84,
   "metadata": {},
   "outputs": [],
   "source": [
    "grouped_county = overall_rides.groupby(['Pickup_borough','Dropoff_borough']).size().reset_index(name='count')"
   ]
  },
  {
   "cell_type": "code",
   "execution_count": 85,
   "metadata": {},
   "outputs": [],
   "source": [
    "grouped_county['pickup-dropoff'] = pd.Series(['-'.join(row.astype(str)) for row in grouped_county[['Pickup_borough','Dropoff_borough']].values], index=grouped_county.index)"
   ]
  },
  {
   "cell_type": "code",
   "execution_count": 86,
   "metadata": {},
   "outputs": [],
   "source": [
    "grouped_county[['pickup-dropoff','count']].to_csv('./county_rides.csv',index=False)"
   ]
  }
 ],
 "metadata": {
  "kernelspec": {
   "display_name": "Python 3",
   "language": "python",
   "name": "python3"
  },
  "language_info": {
   "codemirror_mode": {
    "name": "ipython",
    "version": 3
   },
   "file_extension": ".py",
   "mimetype": "text/x-python",
   "name": "python",
   "nbconvert_exporter": "python",
   "pygments_lexer": "ipython3",
   "version": "3.6.2"
  }
 },
 "nbformat": 4,
 "nbformat_minor": 2
}
